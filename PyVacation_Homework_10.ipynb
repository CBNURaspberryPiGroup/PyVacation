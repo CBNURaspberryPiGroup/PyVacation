{
 "metadata": {
  "language_info": {
   "codemirror_mode": {
    "name": "ipython",
    "version": 3
   },
   "file_extension": ".py",
   "mimetype": "text/x-python",
   "name": "python",
   "nbconvert_exporter": "python",
   "pygments_lexer": "ipython3",
   "version": 3
  },
  "orig_nbformat": 2
 },
 "nbformat": 4,
 "nbformat_minor": 2,
 "cells": [
  {
   "cell_type": "code",
   "execution_count": null,
   "metadata": {},
   "outputs": [],
   "source": [
    "'''\n",
    "Q.1 스키테일 암호\n",
    "\n",
    "스키테일 암호란 고대 그리스에서 썼던 암호 중 하나입니다.\n",
    "예를 들어 4x2 배열로 'PASSWORD'라는 글을 암호화하려면 이 단어를\n",
    "\n",
    "PASS\n",
    "WORD\n",
    "\n",
    "라고 배열한 뒤에, 이것을 세로로 읽어서 'PWAOSRSD'라고 만드는 식이죠.\n",
    "\n",
    "그렇다면, 암호인 'RBYRAEPOSRIUPRGP'를 원래의 평문으로 바꿔보세요.\n",
    "'''"
   ]
  },
  {
   "cell_type": "code",
   "execution_count": null,
   "metadata": {},
   "outputs": [],
   "source": [
    "cypher = \"RBYRAEPOSRIUPRGP\"\n",
    "\n",
    "#여기에 코드 입력\n"
   ]
  }
 ]
}

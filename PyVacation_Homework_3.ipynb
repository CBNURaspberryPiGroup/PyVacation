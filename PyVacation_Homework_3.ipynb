{
 "metadata": {
  "language_info": {
   "codemirror_mode": {
    "name": "ipython",
    "version": 3
   },
   "file_extension": ".py",
   "mimetype": "text/x-python",
   "name": "python",
   "nbconvert_exporter": "python",
   "pygments_lexer": "ipython3",
   "version": "3.7.5-final"
  },
  "orig_nbformat": 2,
  "kernelspec": {
   "name": "python_defaultSpec_1597804875984",
   "display_name": "Python 3.7.5 64-bit"
  }
 },
 "nbformat": 4,
 "nbformat_minor": 2,
 "cells": [
  {
   "cell_type": "code",
   "execution_count": null,
   "metadata": {},
   "outputs": [],
   "source": [
    "import numpy as np\n",
    "import matplotlib.pyplot as plt\n",
    "t = list(np.arange(0,6.01,0.01))"
   ]
  },
  {
   "cell_type": "code",
   "execution_count": null,
   "metadata": {},
   "outputs": [],
   "source": [
    "'''\n",
    "Q.1 사각파 만들기\n",
    "\n",
    "사각파를 직접 생성해봅시다. t는 0부터 6까지 0.01씩 증가하는 리스트입니다.\n",
    "이제 우리는 주기가 1이고 진폭이 1인, 즉, 0과 1을 왔다갔다 하는 사각파를 만들어 볼 것입니다.\n",
    "0 <= t < 0.5 일때의 값은 0이고 0.5 <= t < 1 일때의 값은 1인 것이죠.\n",
    "\n",
    "아래에 t와 y에 관한 그래프를 그리는 코드를 적어놓았습니다.\n",
    "for문과 if문을 적절히 사용하여 리스트 y에 값을 추가시킨 후에 사각파가 그려지는 것을 확인해보세요.\n",
    "'''\n",
    "\n",
    "y = []\n"
   ]
  },
  {
   "cell_type": "code",
   "execution_count": null,
   "metadata": {},
   "outputs": [],
   "source": [
    "plt.plot(t,y)\n",
    "plt.show()"
   ]
  },
  {
   "cell_type": "code",
   "execution_count": null,
   "metadata": {},
   "outputs": [],
   "source": [
    "R = np.random.normal(10,5,500)"
   ]
  },
  {
   "cell_type": "code",
   "execution_count": null,
   "metadata": {},
   "outputs": [],
   "source": [
    "'''\n",
    "Q.2 평균과 표준편차\n",
    "\n",
    "어떤 분포에 대하여 평균은 모든 값들의 합을 값의 개수로 나눈 것이고, 분산은 값들의 제곱의 평균에서 평균의 제곱을 뺀 것이죠.\n",
    "그리고 표준편차는 분산의 제곱근입니다.\n",
    "\n",
    "리스트 R은 평균이 10이고 표준편차가 5인 정규분포에서 얻은 랜덤한 샘플인데,\n",
    "이것의 평균과 표준편차를 for문을 이용하여 구해서 실제와 비슷한지 확인해 보세요.\n",
    "'''"
   ]
  },
  {
   "cell_type": "code",
   "execution_count": null,
   "metadata": {
    "tags": []
   },
   "outputs": [],
   "source": []
  }
 ]
}
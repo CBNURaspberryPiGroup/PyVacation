{
 "metadata": {
  "language_info": {
   "codemirror_mode": {
    "name": "ipython",
    "version": 3
   },
   "file_extension": ".py",
   "mimetype": "text/x-python",
   "name": "python",
   "nbconvert_exporter": "python",
   "pygments_lexer": "ipython3",
   "version": "3.7.8-final"
  },
  "orig_nbformat": 2,
  "kernelspec": {
   "name": "python3",
   "display_name": "Python 3"
  }
 },
 "nbformat": 4,
 "nbformat_minor": 2,
 "cells": [
  {
   "cell_type": "code",
   "execution_count": null,
   "metadata": {},
   "outputs": [],
   "source": [
    "'''\n",
    "Q.1 셸 스크립팅\n",
    "\n",
    "과제를 다운받는 곳의 Ref라는 폴더 안을 보면 Lab.zip이라는 파일이 하나가 있을겁니다. 그것의 압축을 푼 Lab이라는 폴더가 홈 디렉토리 안에 있다고 해보죠.\n",
    "\n",
    "우리는 저 폴더 안의 Cat이라는 폴더와 그 안의 내용을 지워버리고, Person 폴더 안에는 List.docx라는 파일을 없에려고 합니다.\n",
    "\n",
    "마치 파이썬 코드처럼 리눅스 터미널 명령어를 적힌 대로 순차적으로 처리하는 코드를 셸 스크립트라고 하는데, 그것을 만들어서 나중에 실행했을 때 위의 작업이 진행되도록 해봅시다.\n",
    "\n",
    "아래의 변수 code에 우리가 써야 할 명령어들을 순서대로 적어보세요. 그러고나서 코드를 실행하면 pyvacation.sh라는 파일이 만들어질 것입니다. (혹시 모르니 pyvacation.sh를 실행하진 마세요.)\n",
    "'''"
   ]
  },
  {
   "cell_type": "code",
   "execution_count": null,
   "metadata": {},
   "outputs": [],
   "source": [
    "code = '''\n",
    "#여기에 명령어 입력, 한줄에 명령어 하나만 넣어주세요\n",
    "\n",
    "'''\n",
    "\n",
    "fn = open('pyvacation.sh','w')\n",
    "fn.write(code)\n",
    "fn.close()"
   ]
  },
  {
   "cell_type": "code",
   "execution_count": null,
   "metadata": {},
   "outputs": [],
   "source": [
    "'''\n",
    "Q.2 피라미드 그리기\n",
    "\n",
    "아래 규칙처럼 *을 이용한 피라미드를 10번째 줄까지 만들어보세요.\n",
    "\n",
    "   *\n",
    "  ***\n",
    " *****\n",
    "*******\n",
    "'''"
   ]
  },
  {
   "cell_type": "code",
   "execution_count": null,
   "metadata": {},
   "outputs": [],
   "source": [
    "#여기에 코드 입력\n"
   ]
  },
  {
   "cell_type": "code",
   "execution_count": null,
   "metadata": {},
   "outputs": [],
   "source": [
    "'''\n",
    "Q.3 우박수\n",
    "\n",
    "어떤 수 n이 홀수면 3n+1을 취하고 짝수면 n/2를 하는 과정을 결과가 1이 될때까지 반복하는 수열을 우박수열이라 합니다.\n",
    "신기하게도 2^68정도의 숫자까지는 어떤 수로 수열을 시작해도 결국엔 1로 수렴하는 현상을 확인할 수 있죠.\n",
    "\n",
    "그러면, 2부터 30까지의 숫자들 중에서 어떤 수로 시작하면 우박수열이 가장 길어질까요?\n",
    "\n",
    "(정답: 27, 27에서 수열을 시작하면 무려 111번을 가야 1에 도착합니다.)\n",
    "'''"
   ]
  },
  {
   "cell_type": "code",
   "execution_count": null,
   "metadata": {},
   "outputs": [],
   "source": [
    "#여기에 코드 입력\n"
   ]
  }
 ]
}
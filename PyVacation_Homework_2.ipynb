{
 "metadata": {
  "language_info": {
   "codemirror_mode": {
    "name": "ipython",
    "version": 3
   },
   "file_extension": ".py",
   "mimetype": "text/x-python",
   "name": "python",
   "nbconvert_exporter": "python",
   "pygments_lexer": "ipython3",
   "version": 3
  },
  "orig_nbformat": 2,
  "kernelspec": {
   "name": "python_defaultSpec_1597199067226",
   "display_name": "Python 3.7.5 64-bit"
  }
 },
 "nbformat": 4,
 "nbformat_minor": 2,
 "cells": [
  {
   "cell_type": "code",
   "execution_count": null,
   "metadata": {},
   "outputs": [],
   "source": [
    "'''\n",
    "Q.1 드 모르간의 법칙\n",
    "\n",
    "어떤 집합 A, B에 대해서 다음과 같은 드 모르간의 법칙이 성립합니다.\n",
    "(~는 여집합, *는 교집합, +는 합집합입니다.)\n",
    "\n",
    "~(A*B) = (~A)+(~B)\n",
    "\n",
    "아래 칸의 변수 a, b를 True나 False로 바꿔보면서 드 모르간 법칙이 불리언 값(True/False 값)에서도 성립하는지 확인해보세요. if문을 이용하여 저 식이 만족하면 'True'가 출력되게 해보세요.\n",
    "'''"
   ]
  },
  {
   "cell_type": "code",
   "execution_count": null,
   "metadata": {
    "tags": []
   },
   "outputs": [],
   "source": [
    "a = True\n",
    "b = True\n"
   ]
  },
  {
   "cell_type": "code",
   "execution_count": null,
   "metadata": {
    "tags": []
   },
   "outputs": [],
   "source": [
    "import numpy as np\n",
    "import matplotlib.pyplot as plt\n",
    "\n",
    "x = list(np.round(np.arange(1,33)/8,decimals = 3))"
   ]
  },
  {
   "cell_type": "code",
   "execution_count": null,
   "metadata": {},
   "outputs": [],
   "source": [
    "'''\n",
    "Q.2 탄젠트 함수의 그래프\n",
    "\n",
    "리스트 x는 1/8부터 4까지 1/8씩 올라가는 숫자들의 리스트입니다.\n",
    "그리고 아래의 그래프는 y=tan(πx)의 그래프를 그리죠.\n",
    "\n",
    "물론 이 상태로 그래프를 그리면 '튀어오르는' 몇몇 값들 때문에 제대로 된 그래프를 볼 수 없을 것입니다.\n",
    "\n",
    "아래의 for문은 x에서 값을 차례대로 뽑아서 i라는 변수에 집어넣는 반복문인데, i가 그런 '튀어오르는' 값일때 리스트 x에서 i의 값을 제외시켜보세요.\n",
    "그러면 제대로 된 탄젠트 그래프를 볼 수 있을 것입니다.\n",
    "\n",
    "*for문 안에 코드를 쓸때, 항상 Tab을 눌러 인덴트를 넣어주세요.\n",
    "pass문은 지우시면 됩니다.\n",
    "'''\n",
    "for i in x :\n",
    "    \n",
    "    pass"
   ]
  },
  {
   "cell_type": "code",
   "execution_count": null,
   "metadata": {},
   "outputs": [],
   "source": [
    "y = np.tan(np.array(x)*np.pi)\n",
    "\n",
    "plt.plot(x,y,'.')\n",
    "plt.show()"
   ]
  }
 ]
}
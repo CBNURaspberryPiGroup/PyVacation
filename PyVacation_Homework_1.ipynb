{
 "metadata": {
  "language_info": {
   "codemirror_mode": {
    "name": "ipython",
    "version": 3
   },
   "file_extension": ".py",
   "mimetype": "text/x-python",
   "name": "python",
   "nbconvert_exporter": "python",
   "pygments_lexer": "ipython3",
   "version": 3
  },
  "orig_nbformat": 2,
  "kernelspec": {
   "name": "python_defaultSpec_1596787221897",
   "display_name": "Python 3.7.5 64-bit"
  }
 },
 "nbformat": 4,
 "nbformat_minor": 2,
 "cells": [
  {
   "cell_type": "code",
   "execution_count": null,
   "metadata": {
    "tags": []
   },
   "outputs": [],
   "source": [
    "import numpy as np\n",
    "import matplotlib.pyplot as plt\n",
    "\n",
    "r = list(np.round(np.arange(-5,5,0.1),decimals=1)) #-5부터 5까지 숫자들의 리스트\n"
   ]
  },
  {
   "cell_type": "code",
   "execution_count": null,
   "metadata": {},
   "outputs": [],
   "source": [
    "'''\n",
    "Q.1\n",
    "\n",
    "r은 -5부터 5까지 숫자들이 들어있는 리스트로, 아래의 코드는 거리에 대한 유카와 퍼텐셜이라는 함수를 그린 것입니다.\n",
    "아마 현재 상태에서 코드를 실행하면 -5부터 5까지의 거리 값에 대한 유카와 퍼텐셜의 그래프가 그려질 것입니다.\n",
    "\n",
    "하지만 거리는 음수가 될 수 없죠. 그러므로 이 칸에 알맞은 코드를 입력해서 리스트 r 안의 값들을 0보다 큰 값들만 남게 해보세요.\n",
    "그러고 나서 아래의 코드까지 실행시키면 제대로 된 유카와 퍼텐셜 그래프가 그려질 것입니다.\n",
    "\n",
    "(if나 for문을 쓸 필요도 없습니다. 오로지 리스트 인덱싱과 슬라이싱만으로 해보세요.)\n",
    "'''\n"
   ]
  },
  {
   "cell_type": "code",
   "execution_count": null,
   "metadata": {},
   "outputs": [],
   "source": [
    "U = -np.exp(-np.array(r))/np.array(r) #Yukawa Potential\n",
    "\n",
    "plt.plot(r,U)\n",
    "plt.show()"
   ]
  },
  {
   "cell_type": "code",
   "execution_count": null,
   "metadata": {},
   "outputs": [],
   "source": [
    "x = list(np.round(np.arange(-3,3,0.5),decimals=1)) #-3부터 3까지의 리스트\n",
    "y = x #y=x"
   ]
  },
  {
   "cell_type": "code",
   "execution_count": null,
   "metadata": {},
   "outputs": [],
   "source": [
    "'''\n",
    "Q.2\n",
    "\n",
    "x는 -3부터 3까지의 숫자들의 리스트입니다. 현재 상태 그대로 코드를 실행하면 아래의 결과는 y=x의 그래프를 그려줄 것입니다.\n",
    "넘파이를 쓰지 않고 리스트 슬라이싱을 적절히 이용하여 이 칸에서 y를 바꿔본 후에, y=|x|의 그래프를 만들어 보세요.\n",
    "'''\n"
   ]
  },
  {
   "cell_type": "code",
   "execution_count": null,
   "metadata": {},
   "outputs": [],
   "source": [
    "plt.plot(x,y)\n",
    "plt.show()"
   ]
  }
 ]
}
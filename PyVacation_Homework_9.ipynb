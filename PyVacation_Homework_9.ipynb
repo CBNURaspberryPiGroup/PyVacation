{
 "metadata": {
  "language_info": {
   "codemirror_mode": {
    "name": "ipython",
    "version": 3
   },
   "file_extension": ".py",
   "mimetype": "text/x-python",
   "name": "python",
   "nbconvert_exporter": "python",
   "pygments_lexer": "ipython3",
   "version": "3.7.8-final"
  },
  "orig_nbformat": 2,
  "kernelspec": {
   "name": "python3",
   "display_name": "Python 3"
  }
 },
 "nbformat": 4,
 "nbformat_minor": 2,
 "cells": [
  {
   "cell_type": "code",
   "execution_count": null,
   "metadata": {},
   "outputs": [],
   "source": [
    "'''\n",
    "Q.1 셸 스크립팅 2\n",
    "\n",
    "홈 디렉토리에 Hello.sh라는 빈 파일을 만드는 스크립트를 짜봅시다.\n",
    "echo 명령어를 이용해서 Hello.sh 안에 코드를 추가하는데, Hello.sh를 실행하면 \"Hello World\"라는 문구가 나오게 해보죠.\n",
    "'''"
   ]
  },
  {
   "cell_type": "code",
   "execution_count": null,
   "metadata": {},
   "outputs": [],
   "source": [
    "code = '''\n",
    "#여기에 명령어 입력, 한줄에 명령어 하나만 넣어주세요\n",
    "\n",
    "'''\n",
    "\n",
    "fn = open('pyvacation2.sh','w')\n",
    "fn.write(code)\n",
    "fn.close()"
   ]
  },
  {
   "cell_type": "code",
   "execution_count": null,
   "metadata": {},
   "outputs": [],
   "source": [
    "'''\n",
    "Q.2 16진법\n",
    "\n",
    "16진법은 한 자리에 0부터 16까지의 숫자를 적는 방식입니다. 10진법이 첫째자리부터 10^0, 10^1, 10^2... 을 나타내듯이\n",
    "16진법은 16^0, 16^1, 16^2... 를 나타내죠. 그래서 16진법은 10 이상의 문자로 A(10), B(11), C(12), D(13), E(14), F(15)를 사용합니다.\n",
    "\n",
    "그럼 이제 10진수를 16진수로 바꿔보는 함수를 만들어봅시다.\n",
    "25565는 16진수로 무엇일까요?\n",
    "정답은 0x63DD입니다. hex()함수를 쓰지 않고 시도해보세요!\n",
    "'''"
   ]
  },
  {
   "cell_type": "code",
   "execution_count": null,
   "metadata": {},
   "outputs": [],
   "source": [
    "#여기에 코드 입력\n",
    "def hexadecimal(n):\n",
    "    pass\n",
    "\n",
    "print(hexadecimal(25565))"
   ]
  },
  {
   "cell_type": "code",
   "execution_count": null,
   "metadata": {},
   "outputs": [],
   "source": [
    "'''\n",
    "Q.3 로마 숫자\n",
    "\n",
    "위의 문제와 비슷한 문제를 더 시도해봅시다.\n",
    "이번엔 로마자입니다.\n",
    "\n",
    "로마숫자는 I(1), V(5), X(10), L(50), C(100), D(500), M(1000)으로 구성되어 있고, \n",
    "큰 숫자 오른쪽에 작은 숫자를 놓으면 더한다는 뜻이고 왼쪽에 놓으면 뺀다는 뜻이 되죠.\n",
    "(자세한 것은 인터넷을 찾아보세요!)\n",
    "\n",
    "그렇다면 현재 우리가 쓰는 아라비아숫자를 로마 숫자로 바꾸는 함수를 만들어봅시다.\n",
    "2000까지의 숫자에 대해 변환하는 함수를 만든 뒤, 1848이 로마 숫자 MDCCCXLVIII임을 보이세요.\n",
    "'''"
   ]
  },
  {
   "cell_type": "code",
   "execution_count": null,
   "metadata": {},
   "outputs": [],
   "source": [
    "#여기에 코드 입력\n",
    "def roman(n):\n",
    "    pass\n",
    "\n",
    "print(roman(1848))"
   ]
  },
  {
   "cell_type": "code",
   "execution_count": null,
   "metadata": {},
   "outputs": [],
   "source": [
    "'''\n",
    "Q.4 몬티 홀 문제\n",
    "\n",
    "3개의 문이 있습니다. 그 문들 중 하나의 뒤에는 염소가 있고 하나의 뒤에는 자동차가 있죠.\n",
    "우선 참가자가 문을 하나 고릅니다. 그러고 나면 사회자는 참가자가 고르지 않은 두 문 중 자동차가 있지 않은 문을 열어주죠.\n",
    "\n",
    "문제는 이때 참가자가 선택한 문을 바꾸는 것이 자동차가 뽑힐 확률이 더 높은지, 아니면 바꾸지 않는 것이 더 높은지 알아내는 것이죠.\n",
    "\n",
    "아래의 코드에서, numpy.random.rand(n), 또는 r.rand(n)은 0부터 1까지의 n개의 랜덤한 숫자를 리스트로 반환하는 함수입니다.\n",
    "이것을 이용해서 두 경우의 확률을 비교해보세요.\n",
    "'''"
   ]
  },
  {
   "cell_type": "code",
   "execution_count": null,
   "metadata": {},
   "outputs": [],
   "source": [
    "import numpy as np\n",
    "import numpy.random as r"
   ]
  },
  {
   "cell_type": "code",
   "execution_count": null,
   "metadata": {},
   "outputs": [],
   "source": [
    "#여기에 코드 입력\n"
   ]
  }
 ]
}